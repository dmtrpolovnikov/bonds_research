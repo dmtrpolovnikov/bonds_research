{
 "cells": [
  {
   "cell_type": "code",
   "execution_count": 1,
   "id": "19e7f40e-723e-4c12-8d1d-57b9dba94b74",
   "metadata": {
    "tags": []
   },
   "outputs": [],
   "source": [
    "import requests\n",
    "import apimoex\n",
    "import ts2vg as ts\n",
    "from igraph import *\n",
    "import numpy as np\n",
    "import networkx as nx\n",
    "import igraph as ig\n",
    "import cairocffi\n",
    "import matplotlib.pyplot as plt\n",
    "import pandas as pd\n",
    "import dill\n",
    "import json\n",
    "import datetime"
   ]
  },
  {
   "cell_type": "code",
   "execution_count": 5,
   "id": "97f4eeb5-a967-409b-a409-66f41be3a2a7",
   "metadata": {},
   "outputs": [],
   "source": [
    "def download_stock_market_data(url, file_path):\n",
    "    with requests.get(url) as response:\n",
    "        if response.status_code == 200:\n",
    "            with open(file_path, 'w') as file:\n",
    "                json.dump(response.json(), file)"
   ]
  },
  {
   "cell_type": "code",
   "execution_count": 6,
   "id": "c3eb2b14-91a5-4b3f-b783-cb99935499a1",
   "metadata": {},
   "outputs": [],
   "source": [
    "url_ofz = 'https://iss.moex.com/iss/engines/stock/markets/bonds/boards/TQOB/securities.json?first=200'\n",
    "url_bonds = 'https://iss.moex.com/iss/engines/stock/markets/bonds/boards/TQCB/securities.json?first=3000'\n",
    "download_stock_market_data(url_ofz, './data/cmm_bonds')"
   ]
  },
  {
   "cell_type": "code",
   "execution_count": 8,
   "id": "c890473d-c1b7-4e2e-bbb5-103df8082f84",
   "metadata": {},
   "outputs": [],
   "source": [
    "ofz_path = './data/ofz_bonds'\n",
    "cmm_path = './data/cmm_bonds'"
   ]
  },
  {
   "cell_type": "code",
   "execution_count": 9,
   "id": "9659dc8b-f991-441a-b67e-352d95c5a930",
   "metadata": {},
   "outputs": [],
   "source": [
    "with open(ofz_path, 'rb') as file:\n",
    "    ofz = json.load(file)\n",
    "with open(cmm_path, 'rb') as file:\n",
    "    cmm = json.load(file)"
   ]
  },
  {
   "cell_type": "code",
   "execution_count": 25,
   "id": "8714e014-2804-4442-84c3-bbd890e3afd6",
   "metadata": {
    "tags": []
   },
   "outputs": [],
   "source": [
    "cb_ir = pd.read_csv('data.csv', delimiter=';', header=None)\n",
    "cb_ir.columns = ['TRADEDATE', 'IR']\n",
    "cb_ir.set_index('TRADEDATE', inplace=True)\n",
    "cb_ir.index = pd.to_datetime(cb_ir.index, dayfirst=True)"
   ]
  },
  {
   "cell_type": "code",
   "execution_count": 10,
   "id": "f8b891ce-2d88-4b14-b9e1-b662e5a04971",
   "metadata": {
    "tags": []
   },
   "outputs": [
    {
     "data": {
      "text/plain": [
       "'SU29010RMFS4'"
      ]
     },
     "execution_count": 10,
     "metadata": {},
     "output_type": "execute_result"
    }
   ],
   "source": [
    "ofz['securities']['data'][33][0]"
   ]
  },
  {
   "cell_type": "code",
   "execution_count": 11,
   "id": "b2be1c18-e9e8-42a8-b7e1-4472d481afd2",
   "metadata": {
    "tags": []
   },
   "outputs": [],
   "source": [
    "selected_cols = ['FACEVALUE', 'MATDATE', 'TRADEDATE', 'CLOSE', 'VOLUME']"
   ]
  },
  {
   "cell_type": "code",
   "execution_count": 28,
   "id": "9e8d85cb-3419-4649-be62-83932160aa16",
   "metadata": {
    "tags": []
   },
   "outputs": [
    {
     "data": {
      "text/plain": [
       "48"
      ]
     },
     "execution_count": 28,
     "metadata": {},
     "output_type": "execute_result"
    }
   ],
   "source": [
    "i"
   ]
  },
  {
   "cell_type": "code",
   "execution_count": 29,
   "id": "e6535587-c9a3-43a9-90bb-00ea2fa4cf9b",
   "metadata": {
    "collapsed": true,
    "jupyter": {
     "outputs_hidden": true
    },
    "tags": []
   },
   "outputs": [
    {
     "name": "stdout",
     "output_type": "stream",
     "text": [
      "SU46012RMFS9\n",
      "initial offering date\n"
     ]
    },
    {
     "name": "stdin",
     "output_type": "stream",
     "text": [
      " 14.02.2003\n"
     ]
    },
    {
     "name": "stdout",
     "output_type": "stream",
     "text": [
      "arbitraty coupon payoff date\n"
     ]
    },
    {
     "name": "stdin",
     "output_type": "stream",
     "text": [
      " 14.09.2022\n"
     ]
    },
    {
     "name": "stdout",
     "output_type": "stream",
     "text": [
      "the next coupon payoff date\n"
     ]
    },
    {
     "name": "stdin",
     "output_type": "stream",
     "text": [
      " 13.09.2023\n"
     ]
    },
    {
     "name": "stdout",
     "output_type": "stream",
     "text": [
      "coupon value\n"
     ]
    },
    {
     "name": "stdin",
     "output_type": "stream",
     "text": [
      " 0\n"
     ]
    },
    {
     "name": "stdout",
     "output_type": "stream",
     "text": [
      "payoff periodicity\n"
     ]
    },
    {
     "name": "stdin",
     "output_type": "stream",
     "text": [
      " 1\n"
     ]
    },
    {
     "name": "stdout",
     "output_type": "stream",
     "text": [
      "364 days, 0:00:00\n",
      "SU46020RMFS2\n",
      "initial offering date\n"
     ]
    },
    {
     "name": "stdin",
     "output_type": "stream",
     "text": [
      " 15.02.2006\n"
     ]
    },
    {
     "name": "stdout",
     "output_type": "stream",
     "text": [
      "arbitraty coupon payoff date\n"
     ]
    },
    {
     "name": "stdin",
     "output_type": "stream",
     "text": [
      " 16.08.2023\n"
     ]
    },
    {
     "name": "stdout",
     "output_type": "stream",
     "text": [
      "the next coupon payoff date\n"
     ]
    },
    {
     "name": "stdin",
     "output_type": "stream",
     "text": [
      " 14.02.2024\n"
     ]
    },
    {
     "name": "stdout",
     "output_type": "stream",
     "text": [
      "coupon value\n"
     ]
    },
    {
     "name": "stdin",
     "output_type": "stream",
     "text": [
      " 34,41\n"
     ]
    },
    {
     "name": "stdout",
     "output_type": "stream",
     "text": [
      "payoff periodicity\n"
     ]
    },
    {
     "name": "stdin",
     "output_type": "stream",
     "text": [
      " 2\n"
     ]
    },
    {
     "name": "stdout",
     "output_type": "stream",
     "text": [
      "182 days, 0:00:00\n",
      "SU46023RMFS6\n",
      "initial offering date\n"
     ]
    },
    {
     "name": "stdin",
     "output_type": "stream",
     "text": [
      " 30.09.2011\n"
     ]
    },
    {
     "name": "stdout",
     "output_type": "stream",
     "text": [
      "arbitraty coupon payoff date\n"
     ]
    },
    {
     "name": "stdin",
     "output_type": "stream",
     "text": [
      " 27.07.2023\n"
     ]
    },
    {
     "name": "stdout",
     "output_type": "stream",
     "text": [
      "the next coupon payoff date\n"
     ]
    },
    {
     "name": "stdin",
     "output_type": "stream",
     "text": [
      " 25.01.2024\n"
     ]
    },
    {
     "name": "stdout",
     "output_type": "stream",
     "text": [
      "coupon value\n"
     ]
    },
    {
     "name": "stdin",
     "output_type": "stream",
     "text": [
      " 12,21\n"
     ]
    },
    {
     "name": "stdout",
     "output_type": "stream",
     "text": [
      "payoff periodicity\n"
     ]
    },
    {
     "name": "stdin",
     "output_type": "stream",
     "text": [
      " 2\n"
     ]
    },
    {
     "name": "stdout",
     "output_type": "stream",
     "text": [
      "182 days, 0:00:00\n",
      "SU52002RMFS1\n",
      "initial offering date\n"
     ]
    },
    {
     "name": "stdin",
     "output_type": "stream",
     "text": [
      " 21.03.2018\n"
     ]
    },
    {
     "name": "stdout",
     "output_type": "stream",
     "text": [
      "arbitraty coupon payoff date\n"
     ]
    },
    {
     "name": "stdin",
     "output_type": "stream",
     "text": [
      " 07.02.2024\n"
     ]
    },
    {
     "name": "stdout",
     "output_type": "stream",
     "text": [
      "the next coupon payoff date\n"
     ]
    },
    {
     "name": "stdin",
     "output_type": "stream",
     "text": [
      " 07.08.2024\n"
     ]
    },
    {
     "name": "stdout",
     "output_type": "stream",
     "text": [
      "coupon value\n"
     ]
    },
    {
     "name": "stdin",
     "output_type": "stream",
     "text": [
      " 17,65\n"
     ]
    },
    {
     "name": "stdout",
     "output_type": "stream",
     "text": [
      "payoff periodicity\n"
     ]
    },
    {
     "name": "stdin",
     "output_type": "stream",
     "text": [
      " 2\n"
     ]
    },
    {
     "name": "stdout",
     "output_type": "stream",
     "text": [
      "182 days, 0:00:00\n",
      "SU52003RMFS9\n",
      "initial offering date\n"
     ]
    },
    {
     "name": "stdin",
     "output_type": "stream",
     "text": [
      " 12.08.2020\n"
     ]
    },
    {
     "name": "stdout",
     "output_type": "stream",
     "text": [
      "arbitraty coupon payoff date\n"
     ]
    },
    {
     "name": "stdin",
     "output_type": "stream",
     "text": [
      " 24.01.2024\n"
     ]
    },
    {
     "name": "stdout",
     "output_type": "stream",
     "text": [
      "the next coupon payoff date\n"
     ]
    },
    {
     "name": "stdin",
     "output_type": "stream",
     "text": [
      " 24.07.2024\n"
     ]
    },
    {
     "name": "stdout",
     "output_type": "stream",
     "text": [
      "coupon value\n"
     ]
    },
    {
     "name": "stdin",
     "output_type": "stream",
     "text": [
      " 16,05\n"
     ]
    },
    {
     "name": "stdout",
     "output_type": "stream",
     "text": [
      "payoff periodicity\n"
     ]
    },
    {
     "name": "stdin",
     "output_type": "stream",
     "text": [
      " 2\n"
     ]
    },
    {
     "name": "stdout",
     "output_type": "stream",
     "text": [
      "182 days, 0:00:00\n",
      "SU52004RMFS7\n",
      "initial offering date\n"
     ]
    },
    {
     "name": "stdin",
     "output_type": "stream",
     "text": [
      " 08.09.2021\n"
     ]
    },
    {
     "name": "stdout",
     "output_type": "stream",
     "text": [
      "arbitraty coupon payoff date\n"
     ]
    },
    {
     "name": "stdin",
     "output_type": "stream",
     "text": [
      " 27.03.2024\n"
     ]
    },
    {
     "name": "stdout",
     "output_type": "stream",
     "text": [
      "the next coupon payoff date\n"
     ]
    },
    {
     "name": "stdin",
     "output_type": "stream",
     "text": [
      " 25.09.2024\n"
     ]
    },
    {
     "name": "stdout",
     "output_type": "stream",
     "text": [
      "coupon value\n"
     ]
    },
    {
     "name": "stdin",
     "output_type": "stream",
     "text": [
      " 15,09\n"
     ]
    },
    {
     "name": "stdout",
     "output_type": "stream",
     "text": [
      "payoff periodicity\n"
     ]
    },
    {
     "name": "stdin",
     "output_type": "stream",
     "text": [
      " 2\n"
     ]
    },
    {
     "name": "stdout",
     "output_type": "stream",
     "text": [
      "182 days, 0:00:00\n",
      "SU52005RMFS4\n",
      "initial offering date\n"
     ]
    },
    {
     "name": "stdin",
     "output_type": "stream",
     "text": [
      " 15.03.2023\n"
     ]
    },
    {
     "name": "stdout",
     "output_type": "stream",
     "text": [
      "arbitraty coupon payoff date\n"
     ]
    },
    {
     "name": "stdin",
     "output_type": "stream",
     "text": [
      " 22.05.2024\n"
     ]
    },
    {
     "name": "stdout",
     "output_type": "stream",
     "text": [
      "the next coupon payoff date\n"
     ]
    },
    {
     "name": "stdin",
     "output_type": "stream",
     "text": [
      " 20.11.2024\n"
     ]
    },
    {
     "name": "stdout",
     "output_type": "stream",
     "text": [
      "coupon value\n"
     ]
    },
    {
     "name": "stdin",
     "output_type": "stream",
     "text": [
      " 12,95\n"
     ]
    },
    {
     "name": "stdout",
     "output_type": "stream",
     "text": [
      "payoff periodicity\n"
     ]
    },
    {
     "name": "stdin",
     "output_type": "stream",
     "text": [
      " 2\n"
     ]
    },
    {
     "name": "stdout",
     "output_type": "stream",
     "text": [
      "182 days, 0:00:00\n"
     ]
    }
   ],
   "source": [
    "bonds_dict = {}\n",
    "with requests.Session() as session:\n",
    "    for i, bond in enumerate(ofz['securities']['data']):\n",
    "        if i < 48:\n",
    "            continue\n",
    "        print(bond[0])\n",
    "        bonds_dict[bond[0]] = {}\n",
    "        data = apimoex.get_board_history(session, security=ofz['securities']['data'][i][0], board='TQOB', market='bonds', columns=selected_cols)\n",
    "        df = pd.DataFrame(data).dropna(axis=0)\n",
    "        if len(df) == 0:\n",
    "            continue\n",
    "        bonds_dict[bond[0]]['facevalue'] = df['FACEVALUE'].iloc[0]\n",
    "        bonds_dict[bond[0]]['maturity'] = df['MATDATE'].iloc[0]\n",
    "        \n",
    "            \n",
    "        df.set_index('TRADEDATE', inplace=True)\n",
    "        df.index = pd.to_datetime(df.index)\n",
    "        \n",
    "        mat_date = datetime.datetime.date( pd.to_datetime(bonds_dict[bond[0]]['maturity']) )\n",
    "        df['COUPON'] = 0\n",
    "        df.loc[mat_date, 'COUPON'] = 0\n",
    "        \n",
    "        print('initial offering date')\n",
    "        start_date    = input()\n",
    "        bonds_dict[ofz['securities']['data'][i][0]]['offering'] = start_date\n",
    "        start_date = datetime.datetime.date(pd.to_datetime(start_date, dayfirst=True))\n",
    "        \n",
    "        print('arbitraty coupon payoff date')\n",
    "        next_payment  = datetime.datetime.date(pd.to_datetime(input(), dayfirst=True))\n",
    "        print('the next coupon payoff date')\n",
    "        next_payment2 = datetime.datetime.date(pd.to_datetime(input(), dayfirst=True))\n",
    "        coupon_period = next_payment2 - next_payment\n",
    "        print('coupon value')\n",
    "        coupon = float(input().replace(',','.'))\n",
    "        print('payoff periodicity')\n",
    "        periodicity = float(input())\n",
    "        bonds_dict[bond[0]]['coupon'] = coupon\n",
    "        bonds_dict[bond[0]]['periodicity'] = periodicity\n",
    "        \n",
    "        print(next_payment2 - next_payment)\n",
    "        \n",
    "        while start_date <= mat_date + datetime.timedelta(days=25):\n",
    "            df.loc[pd.to_datetime(start_date), 'COUPON'] = coupon\n",
    "            start_date += coupon_period\n",
    "        df.loc[mat_date, 'COUPON'] += bonds_dict[bond[0]]['facevalue']\n",
    "            \n",
    "        df['PROFITABILITY'] = periodicity * coupon / df['CLOSE'] / 100\n",
    "            \n",
    "        df['IR'] = 0\n",
    "        for date in cb_ir.index[::-1]:\n",
    "            try:\n",
    "                df.loc[date:, 'IR'] = cb_ir.loc[date][0] / 100\n",
    "            except:\n",
    "                continue  \n",
    "                \n",
    "        # df['DISCOUNT_FACTOR'] = 0\n",
    "        # df.loc[df.index[-1], 'DISCOUNT_FACTOR'] = 1\n",
    "        # for i, date in enumerate(df.index[:-2:-1]):\n",
    "        #     df.loc[date, 'DISCOUNT_FACTOR'] = np.exp(\n",
    "        #         df.loc[date, 'IR'] * (df.index[-1-i] - date).days / 365.25\n",
    "        #     ) * df.loc[df.index[-1-i], 'DISCOUNT_FACTOR']\n",
    "        \n",
    "        df = df.drop(columns=['FACEVALUE', 'MATDATE'])\n",
    "        bonds_dict[bond[0]]['market_data'] = df\n",
    "        \n",
    "        with open(f'./data/{bond[0]}', 'wb') as bfile:\n",
    "            dill.dump(bonds_dict[bond[0]], bfile)"
   ]
  },
  {
   "cell_type": "code",
   "execution_count": null,
   "id": "449edc2b-cdf5-466d-b3af-afaa745f3e00",
   "metadata": {},
   "outputs": [],
   "source": [
    "drop_set = ['SU29013RMFS8', 'SU29014RMFS6', 'SU29015RMFS3',\n",
    "           'SU29016RMFS1', 'SU29017RMFS9', 'SU29018RMFS7',\n",
    "           'SU29019RMFS5', 'SU29020RMFS3', 'SU29021RMFS1',\n",
    "           'SU29022RMFS9', 'SU29024RMFS5', 'SU29024RMFS5',\n",
    "           'SU29025RMFS2', 'SU46011RMFS1', 'SU46012RMFS9',\n",
    "           'SU46023RMFS6', ]"
   ]
  },
  {
   "cell_type": "code",
   "execution_count": 451,
   "id": "3e7a9bca-0f73-4061-a7ac-f89e9c564adb",
   "metadata": {
    "tags": []
   },
   "outputs": [],
   "source": [
    "with open('./data/SU26207RMFS9', 'rb') as file:\n",
    "    cmm = dill.load(file)"
   ]
  },
  {
   "cell_type": "code",
   "execution_count": null,
   "id": "2acbf182-55e3-45b9-81c5-787655bfff95",
   "metadata": {
    "collapsed": true,
    "jupyter": {
     "outputs_hidden": true
    },
    "tags": []
   },
   "outputs": [
    {
     "data": {
      "text/html": [
       "<div>\n",
       "<style scoped>\n",
       "    .dataframe tbody tr th:only-of-type {\n",
       "        vertical-align: middle;\n",
       "    }\n",
       "\n",
       "    .dataframe tbody tr th {\n",
       "        vertical-align: top;\n",
       "    }\n",
       "\n",
       "    .dataframe thead th {\n",
       "        text-align: right;\n",
       "    }\n",
       "</style>\n",
       "<table border=\"1\" class=\"dataframe\">\n",
       "  <thead>\n",
       "    <tr style=\"text-align: right;\">\n",
       "      <th></th>\n",
       "      <th>CLOSE</th>\n",
       "      <th>VOLUME</th>\n",
       "      <th>COUPON</th>\n",
       "      <th>PROFITABILITY</th>\n",
       "      <th>IR</th>\n",
       "    </tr>\n",
       "    <tr>\n",
       "      <th>TRADEDATE</th>\n",
       "      <th></th>\n",
       "      <th></th>\n",
       "      <th></th>\n",
       "      <th></th>\n",
       "      <th></th>\n",
       "    </tr>\n",
       "  </thead>\n",
       "  <tbody>\n",
       "    <tr>\n",
       "      <th>2013-03-25</th>\n",
       "      <td>108.00</td>\n",
       "      <td>20.0</td>\n",
       "      <td>0.00</td>\n",
       "      <td>0.752593</td>\n",
       "      <td>0.00</td>\n",
       "    </tr>\n",
       "    <tr>\n",
       "      <th>2013-04-04</th>\n",
       "      <td>108.10</td>\n",
       "      <td>1000.0</td>\n",
       "      <td>0.00</td>\n",
       "      <td>0.751896</td>\n",
       "      <td>0.00</td>\n",
       "    </tr>\n",
       "    <tr>\n",
       "      <th>2013-06-17</th>\n",
       "      <td>103.75</td>\n",
       "      <td>1.0</td>\n",
       "      <td>0.00</td>\n",
       "      <td>0.783422</td>\n",
       "      <td>0.00</td>\n",
       "    </tr>\n",
       "    <tr>\n",
       "      <th>2013-08-19</th>\n",
       "      <td>103.75</td>\n",
       "      <td>1.0</td>\n",
       "      <td>0.00</td>\n",
       "      <td>0.783422</td>\n",
       "      <td>0.00</td>\n",
       "    </tr>\n",
       "    <tr>\n",
       "      <th>2013-08-22</th>\n",
       "      <td>102.20</td>\n",
       "      <td>1.0</td>\n",
       "      <td>0.00</td>\n",
       "      <td>0.795303</td>\n",
       "      <td>0.00</td>\n",
       "    </tr>\n",
       "    <tr>\n",
       "      <th>...</th>\n",
       "      <td>...</td>\n",
       "      <td>...</td>\n",
       "      <td>...</td>\n",
       "      <td>...</td>\n",
       "      <td>...</td>\n",
       "    </tr>\n",
       "    <tr>\n",
       "      <th>2025-02-05</th>\n",
       "      <td>NaN</td>\n",
       "      <td>NaN</td>\n",
       "      <td>40.64</td>\n",
       "      <td>NaN</td>\n",
       "      <td>0.13</td>\n",
       "    </tr>\n",
       "    <tr>\n",
       "      <th>2025-08-06</th>\n",
       "      <td>NaN</td>\n",
       "      <td>NaN</td>\n",
       "      <td>40.64</td>\n",
       "      <td>NaN</td>\n",
       "      <td>0.13</td>\n",
       "    </tr>\n",
       "    <tr>\n",
       "      <th>2026-02-04</th>\n",
       "      <td>NaN</td>\n",
       "      <td>NaN</td>\n",
       "      <td>40.64</td>\n",
       "      <td>NaN</td>\n",
       "      <td>0.13</td>\n",
       "    </tr>\n",
       "    <tr>\n",
       "      <th>2026-08-05</th>\n",
       "      <td>NaN</td>\n",
       "      <td>NaN</td>\n",
       "      <td>40.64</td>\n",
       "      <td>NaN</td>\n",
       "      <td>0.13</td>\n",
       "    </tr>\n",
       "    <tr>\n",
       "      <th>2027-02-03</th>\n",
       "      <td>NaN</td>\n",
       "      <td>NaN</td>\n",
       "      <td>1040.64</td>\n",
       "      <td>NaN</td>\n",
       "      <td>0.13</td>\n",
       "    </tr>\n",
       "  </tbody>\n",
       "</table>\n",
       "<p>2268 rows × 5 columns</p>\n",
       "</div>"
      ],
      "text/plain": [
       "             CLOSE  VOLUME   COUPON  PROFITABILITY    IR\n",
       "TRADEDATE                                               \n",
       "2013-03-25  108.00    20.0     0.00       0.752593  0.00\n",
       "2013-04-04  108.10  1000.0     0.00       0.751896  0.00\n",
       "2013-06-17  103.75     1.0     0.00       0.783422  0.00\n",
       "2013-08-19  103.75     1.0     0.00       0.783422  0.00\n",
       "2013-08-22  102.20     1.0     0.00       0.795303  0.00\n",
       "...            ...     ...      ...            ...   ...\n",
       "2025-02-05     NaN     NaN    40.64            NaN  0.13\n",
       "2025-08-06     NaN     NaN    40.64            NaN  0.13\n",
       "2026-02-04     NaN     NaN    40.64            NaN  0.13\n",
       "2026-08-05     NaN     NaN    40.64            NaN  0.13\n",
       "2027-02-03     NaN     NaN  1040.64            NaN  0.13\n",
       "\n",
       "[2268 rows x 5 columns]"
      ]
     },
     "execution_count": 452,
     "metadata": {},
     "output_type": "execute_result"
    }
   ],
   "source": [
    "cmm['market_data']"
   ]
  },
  {
   "cell_type": "code",
   "execution_count": 26,
   "id": "35a330c3-a8e9-404a-b6a5-a01fbb61dbaa",
   "metadata": {
    "tags": []
   },
   "outputs": [],
   "source": [
    "import yfinance as yf"
   ]
  },
  {
   "cell_type": "code",
   "execution_count": 36,
   "id": "844b2aa4-7de4-4210-bf41-519ad877be3c",
   "metadata": {
    "tags": []
   },
   "outputs": [
    {
     "name": "stdout",
     "output_type": "stream",
     "text": [
      "[*********************100%***********************]  1 of 1 completed\n"
     ]
    }
   ],
   "source": [
    "forex_data = yf.download('USDRUB=X', start='2000-01-01', end=datetime.datetime.now())"
   ]
  },
  {
   "cell_type": "code",
   "execution_count": 39,
   "id": "5c8d81dd-8a6b-4a43-9415-0112332f9243",
   "metadata": {
    "tags": []
   },
   "outputs": [],
   "source": [
    "forex_data = forex_data.drop(columns=['Open', 'High', 'Low', 'Adj Close', 'Volume'])"
   ]
  },
  {
   "cell_type": "code",
   "execution_count": 95,
   "id": "59410d03-19c6-4b37-8bae-b891481b4b88",
   "metadata": {
    "tags": []
   },
   "outputs": [],
   "source": [
    "with open('./data/usdrub', 'wb') as file:\n",
    "    dill.dump(fx, file)"
   ]
  },
  {
   "cell_type": "code",
   "execution_count": 77,
   "id": "aead5ec7-6aa7-457e-970e-c31b445d9fb5",
   "metadata": {
    "tags": []
   },
   "outputs": [],
   "source": [
    "with open('./data/usdrub', 'rb') as file:\n",
    "    fx = dill.load(file)"
   ]
  }
 ],
 "metadata": {
  "kernelspec": {
   "display_name": "Python 3 (ipykernel)",
   "language": "python",
   "name": "python3"
  },
  "language_info": {
   "codemirror_mode": {
    "name": "ipython",
    "version": 3
   },
   "file_extension": ".py",
   "mimetype": "text/x-python",
   "name": "python",
   "nbconvert_exporter": "python",
   "pygments_lexer": "ipython3",
   "version": "3.10.11"
  }
 },
 "nbformat": 4,
 "nbformat_minor": 5
}
